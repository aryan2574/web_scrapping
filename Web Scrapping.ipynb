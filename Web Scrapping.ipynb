{
 "cells": [
  {
   "cell_type": "code",
   "execution_count": 1,
   "metadata": {},
   "outputs": [
    {
     "name": "stdout",
     "output_type": "stream",
     "text": [
      "Requirement already satisfied: bs4 in c:\\python38\\lib\\site-packages (0.0.1)\n",
      "Requirement already satisfied: beautifulsoup4 in c:\\python38\\lib\\site-packages (from bs4) (4.9.3)\n",
      "Requirement already satisfied: soupsieve>1.2 in c:\\python38\\lib\\site-packages (from beautifulsoup4->bs4) (2.2)\n"
     ]
    }
   ],
   "source": [
    "!pip install bs4"
   ]
  },
  {
   "cell_type": "code",
   "execution_count": 2,
   "metadata": {},
   "outputs": [],
   "source": [
    "from urllib.request import urlopen"
   ]
  },
  {
   "cell_type": "markdown",
   "metadata": {},
   "source": [
    "### Fetching Data from URL"
   ]
  },
  {
   "cell_type": "code",
   "execution_count": 3,
   "metadata": {},
   "outputs": [],
   "source": [
    "android_url = (\"https://en.wikipedia.org/wiki/Android_version_history\")"
   ]
  },
  {
   "cell_type": "code",
   "execution_count": 4,
   "metadata": {},
   "outputs": [],
   "source": [
    "android_data = urlopen(android_url)"
   ]
  },
  {
   "cell_type": "code",
   "execution_count": 5,
   "metadata": {},
   "outputs": [],
   "source": [
    "android_html = android_data.read()\n",
    "android_data.close()"
   ]
  },
  {
   "cell_type": "markdown",
   "metadata": {},
   "source": [
    "### Importing BeautifulSoup Package"
   ]
  },
  {
   "cell_type": "code",
   "execution_count": 6,
   "metadata": {},
   "outputs": [],
   "source": [
    "from bs4 import BeautifulSoup as soup"
   ]
  },
  {
   "cell_type": "code",
   "execution_count": 7,
   "metadata": {},
   "outputs": [
    {
     "name": "stdout",
     "output_type": "stream",
     "text": [
      "<class 'bs4.BeautifulSoup'>\n"
     ]
    }
   ],
   "source": [
    "android_soup = soup(android_html,'html.parser')\n",
    "print(type(android_soup))"
   ]
  },
  {
   "cell_type": "code",
   "execution_count": 8,
   "metadata": {},
   "outputs": [],
   "source": [
    "tables = android_soup.findAll('table',{'class':'wikitable'})"
   ]
  },
  {
   "cell_type": "code",
   "execution_count": 9,
   "metadata": {},
   "outputs": [],
   "source": [
    "android_table = tables[0]"
   ]
  },
  {
   "cell_type": "markdown",
   "metadata": {},
   "source": [
    "### Extracting Data"
   ]
  },
  {
   "cell_type": "code",
   "execution_count": 10,
   "metadata": {},
   "outputs": [],
   "source": [
    "headers = android_table.findAll('th')"
   ]
  },
  {
   "cell_type": "code",
   "execution_count": 11,
   "metadata": {},
   "outputs": [
    {
     "name": "stdout",
     "output_type": "stream",
     "text": [
      "['Name', 'Version number(s)', 'Initial stablerelease date', 'Supported (security fixes)', 'API level', 'References']\n"
     ]
    }
   ],
   "source": [
    "column_titles = [ct.text[:-1] for ct in headers]\n",
    "print(column_titles)"
   ]
  },
  {
   "cell_type": "code",
   "execution_count": 12,
   "metadata": {},
   "outputs": [
    {
     "name": "stdout",
     "output_type": "stream",
     "text": [
      "18\n",
      "No official codename\n",
      "1.0\n",
      "September 23, 2008\n",
      "No\n",
      "1\n",
      "[9][14]\n"
     ]
    }
   ],
   "source": [
    "rows_data = android_table.findAll('tr')[1:]\n",
    "print(len(rows_data))\n",
    "first_row = rows_data[0].findAll('td',{})\n",
    "for d in first_row:\n",
    "    print(d.text[:-1])"
   ]
  },
  {
   "cell_type": "code",
   "execution_count": 14,
   "metadata": {},
   "outputs": [],
   "source": [
    "table_rows = []\n",
    "for row in rows_data:\n",
    "    current_row = []\n",
    "    row_data = row.findAll('td',{})\n",
    "    for idx,data in enumerate(row_data):\n",
    "        if idx==1:\n",
    "            current_row.append(data.text[:-1].split(\": \")[-1])\n",
    "        elif idx!=0 and idx!=3:\n",
    "            current_row.append(data.text[:-1])\n",
    "        else:\n",
    "            current_row.append(data.text)\n",
    "    table_rows.append(current_row)"
   ]
  },
  {
   "cell_type": "markdown",
   "metadata": {},
   "source": [
    "### Printing Table Rows"
   ]
  },
  {
   "cell_type": "code",
   "execution_count": 15,
   "metadata": {},
   "outputs": [
    {
     "name": "stdout",
     "output_type": "stream",
     "text": [
      "[['No official codename\\n', '1.0', 'September 23, 2008', 'No\\n', '1', '[9][14]'], ['1.1\\n', 'February 9, 2009', 'No', '2\\n', '[9][14][15]'], ['Cupcake\\n', '1.5', 'April 27, 2009', 'No\\n', '3', '[14][16]'], ['Donut\\n', '1.6', 'September 15, 2009', 'No\\n', '4', '[14][17]'], ['Eclair\\n', '2.0 – 2.1', 'October 26, 2009', 'No\\n', '5 – 7', '[14][18]'], ['Froyo\\n', '2.2 – 2.2.3', 'May 20, 2010', 'No\\n', '8', '[14][19]'], ['Gingerbread\\n', '2.3 – 2.3.7', 'December 6, 2010', 'No\\n', '9 – 10', '[14][20]'], ['Honeycomb\\n', '3.0 – 3.2.6', 'February 22, 2011', 'No\\n', '11 – 13', '[14][21]'], ['Ice Cream Sandwich\\n', '4.0 – 4.0.4', 'October 18, 2011', 'No\\n', '14 – 15', '[14][22]'], ['Jelly Bean\\n', '4.1 – 4.3.1', 'July 9, 2012', 'No\\n', '16 – 18', '[14][23]'], ['KitKat\\n', '4.4 – 4.4.4', 'October 31, 2013', 'No\\n', '19 – 20', '[14][24]'], ['Lollipop\\n', '5.0 – 5.1.1', 'November 12, 2014', 'No\\n', '21 – 22', '[14][25]'], ['Marshmallow\\n', '6.0 – 6.0.1', 'October 5, 2015', 'No\\n', '23', '[14][26]'], ['Nougat\\n', '7.0 – 7.1.2', 'August 22, 2016', 'No\\n', '24 – 25', '[14][27][28][29][30]'], ['Oreo\\n', '8.0 – 8.1', 'August 21, 2017', 'Yes\\n', '26 – 27', '[14][31]'], ['Pie\\n', '9', 'August 6, 2018', 'Yes\\n', '28', '[14][32]'], ['Android 10\\n', '10', 'September 3, 2019', 'Yes\\n', '29', '[14][33][34]'], ['Android 11\\n', '11', 'September 8, 2020', 'Yes\\n', '30', '[14][35]']]\n"
     ]
    }
   ],
   "source": [
    "print(table_rows)"
   ]
  },
  {
   "cell_type": "markdown",
   "metadata": {},
   "source": [
    "### Making CSV File"
   ]
  },
  {
   "cell_type": "code",
   "execution_count": 16,
   "metadata": {},
   "outputs": [],
   "source": [
    "filename = 'android_version_history.csv'\n",
    "with open(filename,'w',encoding='utf-8') as f:\n",
    "    #Write the header\n",
    "    header_string = ','.join(column_titles)\n",
    "    header_string += '\\n'\n",
    "    f.write(header_string)\n",
    "    for row in table_rows[:-1]:\n",
    "        row_string = \"\"\n",
    "        for w in row:\n",
    "            w =  w.replace(',','')\n",
    "            row_string += w +','\n",
    "        row_string = row_string[:-1]    \n",
    "        row_string += '\\n'\n",
    "        f.write(row_string)"
   ]
  },
  {
   "cell_type": "markdown",
   "metadata": {},
   "source": [
    "#### Importing Pandas for showing data"
   ]
  },
  {
   "cell_type": "code",
   "execution_count": 17,
   "metadata": {},
   "outputs": [],
   "source": [
    "import pandas as pd"
   ]
  },
  {
   "cell_type": "code",
   "execution_count": 18,
   "metadata": {},
   "outputs": [],
   "source": [
    "df = pd.read_csv('android_version_history.csv')"
   ]
  },
  {
   "cell_type": "code",
   "execution_count": null,
   "metadata": {},
   "outputs": [],
   "source": [
    "df.head(n=10)"
   ]
  }
 ],
 "metadata": {
  "kernelspec": {
   "display_name": "Python 3",
   "language": "python",
   "name": "python3"
  },
  "language_info": {
   "codemirror_mode": {
    "name": "ipython",
    "version": 3
   },
   "file_extension": ".py",
   "mimetype": "text/x-python",
   "name": "python",
   "nbconvert_exporter": "python",
   "pygments_lexer": "ipython3",
   "version": "3.8.3"
  }
 },
 "nbformat": 4,
 "nbformat_minor": 4
}
